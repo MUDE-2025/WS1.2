{
 "cells": [
  {
   "cell_type": "markdown",
   "metadata": {},
   "source": [
    "# Workshop 1.2 `Gumbel and Shake`\n",
    "\n",
    "*[CEGM1000 MUDE](http://mude.citg.tudelft.nl/)*\n",
    "\n",
    "*Written by: Ronald Brinkgeve, Anna Störiko*\n",
    "\n",
    "*Due: `Wednesday`, `September` `10`, `2025`.*"
   ]
  },
  {
   "cell_type": "markdown",
   "metadata": {},
   "source": [
    "## Part 1 Numerical Integration of Gumbel distribution \n"
   ]
  },
  {
   "cell_type": "markdown",
   "metadata": {},
   "source": [
    "Variations in stochastic parameter values can be defined by means of a distribution function, or Probability Density Function (PDF). A PDF describes the probability that a parameter has a certain value x. The most well-known PDFs are the Uniform distribution and the Normal (or Gaussian) distribution, which are both symmetric around the mean. More information about distribution functions and their use will be treated later in MUDE. Here, we will just use it as a mathematical function demonstrating numerical integration.\n",
    "\n",
    "Besides the PDF, there is the Cumulative Distribution Function (CDF), which describes the probability that a parameter value is lower than a given value of x; it is the integral of the PDF up to x, for all possible x-values.\n",
    "\n",
    "Gumbel is another distribution, which is non-symmetric. The Gumbel PDF is given by the following function:\n",
    "\n",
    "$$ f(x) = e^{-(x+e^{-x})} $$\n",
    "\n",
    "The Gumbel CDF can be obtained by analytical integration, and is defined as:\n",
    "\n",
    "$$ F\\left( x \\right) = \\int\\limits_{ - \\infty }^x {f\\left( x \\right)dx = {e^{ - {e^{ - x}}}}}  $$\n",
    "\n"
   ]
  },
  {
   "cell_type": "markdown",
   "metadata": {},
   "source": [
    "<div style=\"background-color:#AABAB2; color: black; width:90%; vertical-align: middle; padding:15px; margin: 10px; border-radius: 10px\">\n",
    "<p>\n",
    "\n",
    "$\\text{Task 1.1:}$\n",
    "    \n",
    "Run the cells below to define and visualise the two functions:\n",
    "\n",
    "</p>\n",
    "</div>"
   ]
  },
  {
   "cell_type": "code",
   "execution_count": null,
   "metadata": {},
   "outputs": [],
   "source": [
    "import matplotlib.pyplot as plt\n",
    "%config InlineBackend.figure_formats = ['svg']\n",
    "import numpy as np"
   ]
  },
  {
   "cell_type": "code",
   "execution_count": null,
   "metadata": {},
   "outputs": [],
   "source": [
    "def f(x):\n",
    "    return np.exp(-(x+np.exp(-x)))\n",
    "\n",
    "def F(x):\n",
    "    return np.exp(-np.exp(-x))"
   ]
  },
  {
   "cell_type": "code",
   "execution_count": null,
   "metadata": {},
   "outputs": [],
   "source": [
    "x = np.linspace(-4, 6, num=100)\n",
    "y = f(x)\n",
    "Y = F(x)\n",
    "\n",
    "x_target = np.array([0, 2, 4])\n",
    "Y_target = F(x_target)\n",
    "print (Y_target)\n",
    "\n",
    "fig, ax = plt.subplots(1,2, figsize=(15,5))\n",
    "ax[0].plot(x, y)\n",
    "ax[1].plot(x, Y)\n",
    "ax[1].scatter(x_target, Y_target, color='red')\n",
    "ax[0].grid()\n",
    "ax[1].grid()\n",
    "ax[0].set_xlabel('x')\n",
    "ax[1].set_xlabel('x')\n",
    "ax[0].set_ylabel('f(x)')\n",
    "ax[1].set_ylabel('F(x)')\n",
    "ax[0].set_title('PDF')\n",
    "ax[1].set_title('CDF')\n",
    "plt.show()"
   ]
  },
  {
   "cell_type": "markdown",
   "metadata": {},
   "source": [
    "The red dots in the CDF represent concrete points (x_target = [0, 2, 4]) where we will evaluate the CDF function value by numerical integration of the PDF.\n"
   ]
  },
  {
   "cell_type": "markdown",
   "metadata": {},
   "source": [
    "### Left Riemann integral:"
   ]
  },
  {
   "cell_type": "markdown",
   "metadata": {},
   "source": [
    "<div style=\"background-color:#AABAB2; color: black; width:90%; vertical-align: middle; padding:15px; margin: 10px; border-radius: 10px\">\n",
    "<p>\n",
    "\n",
    "$\\text{Task 1.2:}$\n",
    "    \n",
    "Formulate the Left Riemann integral solution and complete the code below:\n",
    "\n",
    "</p>\n",
    "</div>"
   ]
  },
  {
   "cell_type": "markdown",
   "metadata": {},
   "source": [
    "<div style=\"background-color:#facb8e; color: black; vertical-align: middle; padding:15px; margin: 10px; border-radius: 10px; width: 90%\"> <p>\n",
    "\n",
    "$\\text{Tip:}$\n",
    "\n",
    "Practically, we can start the numerical integration from x=-4 rather than -inf.\n",
    "</p></div>"
   ]
  },
  {
   "cell_type": "code",
   "execution_count": null,
   "metadata": {
    "tags": [
     "assignment"
    ]
   },
   "outputs": [],
   "source": [
    "Y1 = np.zeros(3)\n",
    "\n",
    "nsteps = 10\n",
    "dx = 10. / nsteps\n",
    "for i in range(3):\n",
    "    x_int = -4.\n",
    "    while x_int < x_target[i]:\n",
    "        --- YOUR CODE HERE ---\n",
    "        x_int += dx\n",
    "print(Y1)"
   ]
  },
  {
   "cell_type": "markdown",
   "metadata": {
    "tags": [
     "solution"
    ]
   },
   "source": [
    "<div style=\"background-color:#FAE99E; color: black; vertical-align: middle; padding:15px; margin: 10px; border-radius: 10px; width: 90%\">\n",
    "<p>\n",
    "$\\text{Solution 1.2:}$\n",
    "</p>\n",
    "Left Riemann integral formulation:\n",
    "$$Y1[i] = \\sum_{j=0}^{m-1} \\left[ f(x_j) * dx \\right]$$ where m is the j-index corresponding to $$x_j = x[i]$$\n",
    "</div>\n",
    "\n"
   ]
  },
  {
   "cell_type": "code",
   "execution_count": null,
   "metadata": {
    "tags": [
     "solution"
    ]
   },
   "outputs": [],
   "source": [
    "Y1 = np.zeros(3)\n",
    "\n",
    "nsteps = 10\n",
    "dx = 10. / nsteps\n",
    "for i in range(3):\n",
    "    x_int = -4.\n",
    "    while x_int < x_target[i]:\n",
    "        Y1[i] += f(x_int) * dx\n",
    "        x_int += dx\n",
    "print(Y1)"
   ]
  },
  {
   "cell_type": "markdown",
   "metadata": {},
   "source": [
    "### Right Riemann integral:"
   ]
  },
  {
   "cell_type": "markdown",
   "metadata": {},
   "source": [
    "<div style=\"background-color:#AABAB2; color: black; width:90%; vertical-align: middle; padding:15px; margin: 10px; border-radius: 10px\">\n",
    "<p>\n",
    "\n",
    "$\\text{Task 1.3:}$\n",
    "    \n",
    "Formulate the Right Riemann integral solution and complete the code below:\n",
    "\n",
    "</p>\n",
    "</div>"
   ]
  },
  {
   "cell_type": "code",
   "execution_count": null,
   "metadata": {
    "tags": [
     "assignment"
    ]
   },
   "outputs": [],
   "source": [
    "Y1 = np.zeros(3)\n",
    "\n",
    "for i in range(3):\n",
    "    x_int = --- YOUR CODE HERE ---\n",
    "    while x_int < --- YOUR CODE HERE ---\n",
    "        Y1[i] += --- YOUR CODE HERE ---\n",
    "        x_int += dx\n",
    "print(Y1)"
   ]
  },
  {
   "cell_type": "markdown",
   "metadata": {
    "tags": [
     "solution"
    ]
   },
   "source": [
    "<div style=\"background-color:#FAE99E; color: black; vertical-align: middle; padding:15px; margin: 10px; border-radius: 10px; width: 90%\">\n",
    "<p>\n",
    "$\\text{Solution 1.3:}$\n",
    "</p>\n",
    "Left Riemann integral formulation:\n",
    "$$Y1[i] = \\sum_{j=1}^{m} \\left[ f(x_j) * dx \\right]$$\n",
    "</div>\n",
    "\n"
   ]
  },
  {
   "cell_type": "code",
   "execution_count": null,
   "metadata": {
    "tags": [
     "solution"
    ]
   },
   "outputs": [],
   "source": [
    "Y1 = np.zeros(3)\n",
    "\n",
    "for i in range(3):\n",
    "    x_int = -4. + dx\n",
    "    while x_int < x_target[i]+dx:\n",
    "        Y1[i] += f(x_int) * dx\n",
    "        x_int += dx\n",
    "print(Y1)"
   ]
  },
  {
   "cell_type": "markdown",
   "metadata": {},
   "source": [
    "### Midpoint rule:"
   ]
  },
  {
   "cell_type": "markdown",
   "metadata": {},
   "source": [
    "<div style=\"background-color:#AABAB2; color: black; width:90%; vertical-align: middle; padding:15px; margin: 10px; border-radius: 10px\">\n",
    "<p>\n",
    "\n",
    "$\\text{Task 1.4:}$\n",
    "    \n",
    "Formulate the Midpoint rule solution and complete the code below:\n",
    "\n",
    "</p>\n",
    "</div>"
   ]
  },
  {
   "cell_type": "code",
   "execution_count": null,
   "metadata": {
    "tags": [
     "assignment"
    ]
   },
   "outputs": [],
   "source": [
    "Y1 = np.zeros(3)\n",
    "\n",
    "for i in range(3):\n",
    "    x_int = -4.\n",
    "    while x_int < x_target[i]:\n",
    "        Y1[i] += --- YOUR CODE HERE ---\n",
    "        x_int += dx\n",
    "print(Y1)"
   ]
  },
  {
   "cell_type": "markdown",
   "metadata": {
    "tags": [
     "solution"
    ]
   },
   "source": [
    "<div style=\"background-color:#FAE99E; color: black; vertical-align: middle; padding:15px; margin: 10px; border-radius: 10px; width: 90%\">\n",
    "<p>\n",
    "$\\text{Solution 1.4:}$\n",
    "</p>\n",
    "Midpoint rule formulation:\n",
    "$$Y1[i] = \\sum_{j=0}^{m-1} \\left[ f \\left( \\frac{x_j+x_{j+1}}{2} \\right) * dx \\right] $$\n",
    "</div>\n",
    "\n"
   ]
  },
  {
   "cell_type": "code",
   "execution_count": null,
   "metadata": {
    "tags": [
     "solution"
    ]
   },
   "outputs": [],
   "source": [
    "Y1 = np.zeros(3)\n",
    "\n",
    "for i in range(3):\n",
    "    x_int = -4.\n",
    "    while x_int < x_target[i]:\n",
    "        Y1[i] += f((x_int + x_int+dx)/2) * dx\n",
    "        x_int += dx\n",
    "print(Y1)"
   ]
  },
  {
   "cell_type": "markdown",
   "metadata": {},
   "source": [
    "### Trapezoidal rule:"
   ]
  },
  {
   "cell_type": "markdown",
   "metadata": {},
   "source": [
    "<div style=\"background-color:#AABAB2; color: black; width:90%; vertical-align: middle; padding:15px; margin: 10px; border-radius: 10px\">\n",
    "<p>\n",
    "\n",
    "$\\text{Task 1.5:}$\n",
    "    \n",
    "Formulate the Trapezoidal rule solution and complete the code below:\n",
    "\n",
    "</p>\n",
    "</div>"
   ]
  },
  {
   "cell_type": "code",
   "execution_count": null,
   "metadata": {
    "tags": [
     "assignment"
    ]
   },
   "outputs": [],
   "source": [
    "Y1 = np.zeros(3)\n",
    "\n",
    "for i in range(3):\n",
    "    x_int = -4.\n",
    "    while x_int < x_target[i]:\n",
    "        Y1[i] += --- YOUR CODE HERE ---\n",
    "        x_int += dx\n",
    "print(Y1)"
   ]
  },
  {
   "cell_type": "markdown",
   "metadata": {
    "tags": [
     "solution"
    ]
   },
   "source": [
    "<div style=\"background-color:#FAE99E; color: black; vertical-align: middle; padding:15px; margin: 10px; border-radius: 10px; width: 90%\">\n",
    "<p>\n",
    "$\\text{Solution 1.5:}$\n",
    "</p>\n",
    "Trapezoidal rule formulation:\n",
    "$$Y1[i] = \\sum_{j=0}^{m-1} \\left[ \\frac{f(x_j) + f(x_{j+1})}{2} * dx \\right] $$\n",
    "</div>\n",
    "\n"
   ]
  },
  {
   "cell_type": "code",
   "execution_count": null,
   "metadata": {
    "tags": [
     "solution"
    ]
   },
   "outputs": [],
   "source": [
    "Y1 = np.zeros(3)\n",
    "\n",
    "for i in range(3):\n",
    "    x_int = -4.\n",
    "    while x_int < x_target[i]:\n",
    "        Y1[i] += (f(x_int)+f(x_int+dx))/2 * dx\n",
    "        x_int += dx\n",
    "print(Y1)"
   ]
  },
  {
   "cell_type": "markdown",
   "metadata": {},
   "source": [
    "Now, run the code below to plot the entire CDF as obtained from numerical integration of the PDF (Trapezoidal rule), together with the analytical CDF"
   ]
  },
  {
   "cell_type": "code",
   "execution_count": null,
   "metadata": {
    "tags": [
     "assignment"
    ]
   },
   "outputs": [],
   "source": [
    "x1 = np.linspace(-4, 6, num=nsteps+1)\n",
    "Y1 = np.zeros(nsteps+1)\n",
    "\n",
    "for i in range(nsteps):\n",
    "    Y1[i+1] = Y1[i] + --- YOUR CODE HERE ---\n",
    "\n",
    "plt.plot(x,Y, linewidth=1)\n",
    "plt.plot(x1,Y1, linewidth=1)\n",
    "plt.xlabel('x')\n",
    "plt.ylabel('F(x)')\n",
    "plt.title('CDF')\n",
    "plt.show()"
   ]
  },
  {
   "cell_type": "code",
   "execution_count": null,
   "metadata": {
    "tags": [
     "solution"
    ]
   },
   "outputs": [],
   "source": [
    "x1 = np.linspace(-4, 6, num=nsteps+1)\n",
    "Y1 = np.zeros(nsteps+1)\n",
    "\n",
    "for i in range(nsteps):\n",
    "    Y1[i+1] = Y1[i] + (f(x1[i])+f(x1[i+1]))/2 * dx\n",
    "\n",
    "plt.plot(x,Y, linewidth=1)\n",
    "plt.plot(x1,Y1, linewidth=1)\n",
    "plt.xlabel('x')\n",
    "plt.ylabel('F(x)')\n",
    "plt.title('CDF')\n",
    "plt.show()"
   ]
  },
  {
   "cell_type": "markdown",
   "metadata": {},
   "source": [
    "<div style=\"background-color:#AABAB2; color: black; width:90%; vertical-align: middle; padding:15px; margin: 10px; border-radius: 10px\">\n",
    "<p>\n",
    "\n",
    "$\\text{Task 1.6:}$\n",
    "    \n",
    "Play with the number of steps (nsteps) to see how this number changes the accuracy of the numerical solution\n",
    "\n",
    "</p>\n",
    "</div>"
   ]
  },
  {
   "cell_type": "markdown",
   "metadata": {},
   "source": [
    "## Part 2 Numerical Integration and differentiation of earthquake record"
   ]
  },
  {
   "cell_type": "markdown",
   "metadata": {},
   "source": [
    "In this exercise we will apply numerical integration and numerical differentiation on given measurement data.\n",
    "The data involves a velocity time series from earthquake recordings. In fact, the original earthquake records also include acceleration and displacement time series, but the purpose of this exercise is to calculate the displacement and acceleration from the given velocity by numerical integration and differentiation, respectively. Afterwards, the results are compared with the original data.\n",
    "\n",
    "![seismograph](https://upload.wikimedia.org/wikipedia/commons/thumb/0/0f/Kinemetrics_seismograph.jpg/960px-Kinemetrics_seismograph.jpg)\n",
    "\n",
    "Source: Wikimedia, Yamaguchi先生 (https://commons.wikimedia.org/wiki/File:Kinemetrics_seismograph.jpg), licensed under CC BY SA\n",
    "\n",
    "Earthquake recordings are relevant as input signals to geotechnical and structural analysis to back-analyse or design structures for the (additional) forces and deformations that may occur during earthquakes. In a so-called one-dimensional site response analysis, geotechnical engineers can also predict whether soil liquefaction might happen at a project location if an earthquake would occur. Based on this they determine if or what measures need to be taken to improve the ground conditions."
   ]
  },
  {
   "cell_type": "markdown",
   "metadata": {},
   "source": [
    "<div style=\"background-color:#AABAB2; color: black; width:90%; vertical-align: middle; padding:15px; margin: 10px; border-radius: 10px\">\n",
    "<p>\n",
    "\n",
    "$\\text{Task 2.1:}$\n",
    "    \n",
    "Open the file [`Earthquake_velocity.txt`](http://files.mude.citg.tudelft.nl/Earthquake_velocity.txt) in a text editor (like VS code) to see how the content looks like.\n",
    "\n",
    "</p>\n",
    "</div>"
   ]
  },
  {
   "cell_type": "markdown",
   "metadata": {},
   "source": [
    "The file contains velocities that were recorded at a frequency of 200 per second during the event of an earthquake. Hence, the total duration of the earthquake measurements (in seconds) is the total number of readings divided by 200."
   ]
  },
  {
   "cell_type": "markdown",
   "metadata": {},
   "source": [
    "<div style=\"background-color:#AABAB2; color: black; width:90%; vertical-align: middle; padding:15px; margin: 10px; border-radius: 10px\">\n",
    "<p>\n",
    "\n",
    "$\\text{Task 2.2:}$\n",
    "    \n",
    "Run the code below to download the datafiles\n",
    "\n",
    "</p>\n",
    "</div>"
   ]
  },
  {
   "cell_type": "code",
   "execution_count": null,
   "metadata": {},
   "outputs": [],
   "source": [
    "import os\n",
    "from urllib.request import urlretrieve"
   ]
  },
  {
   "cell_type": "code",
   "execution_count": null,
   "metadata": {},
   "outputs": [],
   "source": [
    "data_files = ['Earthquake_velocity.txt', 'Earthquake_acceleration.txt', 'Earthquake_displacement.txt']\n",
    "\n",
    "for filename in data_files:\n",
    "    if not os.path.isfile(filename):\n",
    "        print(f\"Downloading {filename}...\")\n",
    "        urlretrieve('http://files.mude.citg.tudelft.nl/'+filename, filename)"
   ]
  },
  {
   "cell_type": "code",
   "execution_count": null,
   "metadata": {},
   "outputs": [],
   "source": [
    "f = open(\"Earthquake_velocity.txt\", 'r')\n",
    "v = np.array([])\n",
    "\n",
    "while True:\n",
    "    line = f.readline()\n",
    "    if not line:  # If line is empty, we've reached the end of file\n",
    "        break\n",
    "    \n",
    "    try:\n",
    "        # Use split() to split on whitespace and filter out empty strings\n",
    "        string_values = line.split()\n",
    "        if len(string_values) > 1:  # to skip the first couple of lines with text\n",
    "            # Convert to float array\n",
    "            values = np.array([float(x) for x in string_values])\n",
    "            v = np.append(v, values)\n",
    "    except ValueError:\n",
    "        # Skip lines that can't be parsed as numbers\n",
    "        continue\n",
    "\n",
    "f.close()  # Close the file\n",
    "num = len(v)\n",
    "t = np.linspace(start=0, stop=num/200, num=num)"
   ]
  },
  {
   "cell_type": "markdown",
   "metadata": {},
   "source": [
    "<div style=\"background-color:#AABAB2; color: black; width:90%; vertical-align: middle; padding:15px; margin: 10px; border-radius: 10px\">\n",
    "<p>\n",
    "\n",
    "$\\text{Task 2.3:}$\n",
    "    \n",
    "Run the code below to plot the velocity time series\n",
    "\n",
    "</p>\n",
    "</div>"
   ]
  },
  {
   "cell_type": "code",
   "execution_count": null,
   "metadata": {},
   "outputs": [],
   "source": [
    "plt.figure(figsize=(12, 4))\n",
    "plt.plot(t, v, linewidth=0.5)\n",
    "plt.xlabel('Time (s)')\n",
    "plt.ylabel('Velocity (cm/s)')\n",
    "plt.title('Velocity vs Time')\n",
    "plt.grid(True)\n",
    "plt.show()"
   ]
  },
  {
   "cell_type": "markdown",
   "metadata": {},
   "source": [
    "### Displacement\n",
    "\n",
    "First, we will integrate the velocity to displacement, to see what the maximum displacement is at the measurement point and how much permanent deformation it has undergone. Thereby we will use three numerical integration methods: Left Riemann, Right Riemann and Midpoint rule. At the end of this block, we will compare the results from the various methods with each other and with the displacement from the earthquake record."
   ]
  },
  {
   "cell_type": "markdown",
   "metadata": {},
   "source": [
    "<div style=\"background-color:#AABAB2; color: black; width:90%; vertical-align: middle; padding:15px; margin: 10px; border-radius: 10px\">\n",
    "<p>\n",
    "\n",
    "$\\text{Task 2.4:}$\n",
    "    \n",
    "Formulate the Left Riemann integral solution and complete the code below, using the velocity data (v) at corresponding times (t):\n",
    "\n",
    "</p>\n",
    "</div>"
   ]
  },
  {
   "cell_type": "code",
   "execution_count": null,
   "metadata": {
    "tags": [
     "assignment"
    ]
   },
   "outputs": [],
   "source": [
    "d_LR = np.zeros([num])\n",
    "\n",
    "for i in range(0,num-1):\n",
    "    d_LR[i+1] = --- YOUR CODE HERE ---"
   ]
  },
  {
   "cell_type": "markdown",
   "metadata": {
    "tags": [
     "solution"
    ]
   },
   "source": [
    "<div style=\"background-color:#FAE99E; color: black; vertical-align: middle; padding:15px; margin: 10px; border-radius: 10px; width: 90%\">\n",
    "<p>\n",
    "$\\text{Solution 2.4:}$\n",
    "</p>\n",
    "Left Riemann integral formulation:\n",
    "$$d_{i+1} = d_{i} + \\left( t_{i+1} - t_{i} \\right) * v_{i} $$\n",
    "</div>\n",
    "\n"
   ]
  },
  {
   "cell_type": "code",
   "execution_count": null,
   "metadata": {
    "tags": [
     "solution"
    ]
   },
   "outputs": [],
   "source": [
    "d_LR = np.zeros([num])\n",
    "\n",
    "for i in range(0,num-1):\n",
    "    d_LR[i+1] = d_LR[i] + (t[i+1]-t[i]) * v[i]"
   ]
  },
  {
   "cell_type": "markdown",
   "metadata": {},
   "source": [
    "Plot the displacement"
   ]
  },
  {
   "cell_type": "code",
   "execution_count": null,
   "metadata": {},
   "outputs": [],
   "source": [
    "plt.figure(figsize=(12, 4))\n",
    "plt.plot(t, d_LR, linewidth=0.5)\n",
    "plt.xlabel('Time (s)')\n",
    "plt.ylabel('Displacement (cm)')\n",
    "plt.title('Displacement vs Time')\n",
    "plt.grid(True)\n",
    "plt.show()"
   ]
  },
  {
   "cell_type": "markdown",
   "metadata": {},
   "source": [
    "<div style=\"background-color:#AABAB2; color: black; width:90%; vertical-align: middle; padding:15px; margin: 10px; border-radius: 10px\">\n",
    "<p>\n",
    "\n",
    "$\\text{Task 2.5:}$\n",
    "    \n",
    "Formulate the Right Riemann integral solution and complete the code below:\n",
    "\n",
    "</p>\n",
    "</div>"
   ]
  },
  {
   "cell_type": "code",
   "execution_count": null,
   "metadata": {
    "tags": [
     "assignment"
    ]
   },
   "outputs": [],
   "source": [
    "d_RR = np.zeros([num])\n",
    "\n",
    "for i in range(1,num):\n",
    "    d_RR[i] = --- YOUR CODE HERE ---"
   ]
  },
  {
   "cell_type": "markdown",
   "metadata": {
    "tags": [
     "solution"
    ]
   },
   "source": [
    "<div style=\"background-color:#FAE99E; color: black; vertical-align: middle; padding:15px; margin: 10px; border-radius: 10px; width: 90%\">\n",
    "<p>\n",
    "$\\text{Solution 2.5:}$\n",
    "</p>\n",
    "Right Riemann integral formulation:\n",
    "$$d_{i} = d_{i-1} + \\left( t_{i} - t_{i-1} \\right) * v_{i} $$\n",
    "</div>\n",
    "\n"
   ]
  },

  {
   "cell_type": "code",
   "execution_count": null,
   "metadata": {
    "tags": [
     "solution"
    ]
   },
   "outputs": [],
   "source": [
    "d_RR = np.zeros([num])\n",
    "\n",
    "for i in range(1,num):\n",
    "    d_RR[i] = d_RR[i-1] + (t[i]-t[i-1]) * v[i]"
   ]
  },
  {
   "cell_type": "markdown",
   "metadata": {},
   "source": [
    "Plot the displacement"
   ]
  },
  {
   "cell_type": "code",
   "execution_count": null,
   "metadata": {},
   "outputs": [],
   "source": [
    "plt.figure(figsize=(12, 4))\n",
    "plt.plot(t, d_RR, linewidth=0.5)\n",
    "plt.xlabel('Time (s)')\n",
    "plt.ylabel('Displacement (cm)')\n",
    "plt.title('Displacement vs Time')\n",
    "plt.grid(True)\n",
    "plt.show()"
   ]
  },
  {
   "cell_type": "markdown",
   "metadata": {},
   "source": [
    "<div style=\"background-color:#AABAB2; color: black; width:90%; vertical-align: middle; padding:15px; margin: 10px; border-radius: 10px\">\n",
    "<p>\n",
    "\n",
    "$\\text{Task 2.6:}$\n",
    "    \n",
    "Formulate the Midpoint rule solution and complete the code below:\n",

    "\n",
    "</p>\n",
    "</div>"
   ]
  },
  {
   "cell_type": "code",
   "execution_count": null,
   "metadata": {
    "tags": [
     "assignment"
    ]
   },
   "outputs": [],
   "source": [
    "d_MP = np.zeros([num])\n",
    "\n",
    "for i in range(0,num-1):\n",
    "    d_MP[i+1] = --- YOUR CODE HERE ---"
   ]
  },
  {
   "cell_type": "markdown",
   "metadata": {
    "tags": [
     "solution"
    ]
   },
   "source": [
    "<div style=\"background-color:#FAE99E; color: black; vertical-align: middle; padding:15px; margin: 10px; border-radius: 10px; width: 90%\">\n",
    "<p>\n",
    "$\\text{Solution 2.6:}$\n",
    "</p>\n",
    "Midpoint rule formulation:\n",
    "$$d_{i+1} = d_{i} + \\left( t_{i+1} - t_{i} \\right) * \\left( \\frac{v_{i+1} + v_{i}}{2} \\right) $$\n",
    "</div>\n",
    "\n"
   ]
  },

  {
   "cell_type": "code",
   "execution_count": null,
   "metadata": {
    "tags": [
     "solution"
    ]
   },
   "outputs": [],
   "source": [
    "d_MP = np.zeros([num])\n",
    "\n",
    "for i in range(0,num-1):\n",
    "    d_MP[i+1] = d_MP[i] + (t[i+1]-t[i]) * (v[i+1]+v[i])/2"
   ]
  },
  {
   "cell_type": "markdown",
   "metadata": {},
   "source": [
    "Note that in this case, where data is given only at specific time intervals, and we simply interpolate the (unknown) velocity at the midpoints in the time interval, the Midpoint rule is exactly the same as the Trapezoidal rule. This is generally NOT the case when using a continuous non-linear function, since in general (f(x)+f(x+dx))/2 =not f(x+dx/2)."
   ]
  },
  {
   "cell_type": "markdown",
   "metadata": {},
   "source": [
    "Plotting all together"
   ]
  },
  {
   "cell_type": "code",
   "execution_count": null,
   "metadata": {},
   "outputs": [],
   "source": [
    "plt.figure(figsize=(12, 4))\n",
    "plt.plot(t, d_LR, linewidth=0.5)\n",
    "plt.plot(t, d_RR, linewidth=0.5)\n",
    "plt.plot(t, d_MP, linewidth=0.5)\n",
    "plt.xlabel('Time (s)')\n",
    "plt.ylabel('Displacement (cm)')\n",
    "plt.title('Displacement vs Time')\n",
    "plt.grid(True)\n",
    "plt.show()"
   ]
  },
  {
   "cell_type": "markdown",
   "metadata": {},
   "source": [
    "Since the measurements have a rather high sampling frequency, the results seem quite accurate and the differences between the integration methods are minimal in this case."
   ]
  },
  {
   "cell_type": "markdown",
   "metadata": {},
   "source": [
    "<div style=\"background-color:#AABAB2; color: black; width:90%; vertical-align: middle; padding:15px; margin: 10px; border-radius: 10px\">\n",
    "<p>\n",
    "\n",
    "$\\text{Task 2.7:}$\n",
    "    \n",
    "Open the 'Earthquake_displacement.txt' file and store the displacement data in a one-dimensional array (d_orig). Compare the calculated displacements with original displacement data.\n",
    "\n",
    "Conclude on the accuracy of your solution.\n",
    "\n",
    "</p>\n",
    "</div>"
   ]
  },
  {
   "cell_type": "code",
   "execution_count": null,
   "metadata": {},
   "outputs": [],
   "source": [
    "f = open(\"Earthquake_displacement.txt\", 'r')\n",
    "d_orig = np.array([])\n",
    "\n",
    "while True:\n",
    "    line = f.readline()\n",
    "    if not line:  # If line is empty, we've reached the end of file\n",
    "        break\n",
    "    \n",
    "    try:\n",
    "        # Use split() to split on whitespace and filter out empty strings\n",
    "        string_values = line.split()\n",
    "        if len(string_values) > 1:  # to skip the first couple of lines with text\n",
    "            # Convert to float array\n",
    "            values = np.array([float(x) for x in string_values])\n",
    "            d_orig = np.append(d_orig, values)\n",
    "    except ValueError:\n",
    "        # Skip lines that can't be parsed as numbers\n",
    "        continue\n",
    "\n",
    "f.close()  # Close the file"
   ]
  },
  {
   "cell_type": "code",
   "execution_count": null,
   "metadata": {},
   "outputs": [],
   "source": [
    "print(d_LR[-1], d_RR[-1], d_MP[-1], d_orig[-1])\n",
    "plt.figure(figsize=(12, 4))\n",
    "plt.plot(t, d_MP, linewidth=0.5)\n",
    "plt.plot(t, d_orig, linewidth=0.5)\n",
    "plt.xlabel('Time (s)')\n",
    "plt.ylabel('Displacement (cm)')\n",
    "plt.title('Displacement vs Time')\n",
    "plt.grid(True)\n",
    "plt.show()"
   ]
  },
  {
   "cell_type": "markdown",
   "metadata": {
    "tags": [
     "solution"
    ]
   },
   "source": [
    "<div style=\"background-color:#FAE99E; color: black; vertical-align: middle; padding:15px; margin: 10px; border-radius: 10px; width: 90%\">\n",
    "<p>\n",
    "$\\text{Solution 2.7:}$\n",
    "</p>\n",
    "Since the measurements have a rather high sampling frequency, the results seem quite accurate and the differences between the integration methods are minimal in this case.",
    "</div>\n",
    "\n"
   ]
  },

  {
   "cell_type": "markdown",
   "metadata": {},
   "source": [
    "<div style=\"background-color:#AABAB2; color: black; width:90%; vertical-align: middle; padding:15px; margin: 10px; border-radius: 10px\">\n",
    "<p>\n",
    "\n",
    "$\\text{Task 2.8:}$\n",
    "    \n",
    "Conclude on the maximum displacement and the permanent displacement (although the measurement point has not yet come to a complete rest). You may answer in [cm] and round off to integer values (zero decimals).\n",
    "\n",
    "</p>\n",
    "</div>"
   ]
  },
  {
   "cell_type": "markdown",
   "metadata": {
    "tags": [
     "solution"
    ]
   },
   "source": [
    "<div style=\"background-color:#FAE99E; color: black; vertical-align: middle; padding:15px; margin: 10px; border-radius: 10px; width: 90%\">\n",
    "<p>\n",
    "$\\text{Solution 2.8:}$\n",
    "</p>\n",
    "The maximum displacement is 10 cm; the permanent displacement is 2 cm",
    "</div>\n",
    "\n"
   ]
  },

  {
   "cell_type": "markdown",
   "metadata": {},
   "source": [
    "### Acceleration\n",
    "\n",
    "Next, we will differentiate the velocity to acceleration, to see what the maximum acceleration is at the measurement point. Thereby we will use three numerical differentiation methods: Forward difference, Backward difference and Central difference. At the end of this block, we will compare our results with each other and with the acceleration from the earthquake record."
   ]
  },
  {
   "cell_type": "markdown",
   "metadata": {},
   "source": [
    "<div style=\"background-color:#AABAB2; color: black; width:90%; vertical-align: middle; padding:15px; margin: 10px; border-radius: 10px\">\n",
    "<p>\n",
    "\n",
    "$\\text{Task 2.9:}$\n",
    "    \n",
    "Formulate the solution according to the Forward Difference method and complete the code below\n",
    "\n",
    "</p>\n",
    "</div>"
   ]
  },
  {
   "cell_type": "code",
   "execution_count": null,
   "metadata": {
    "tags": [
     "assignment"
    ]
   },
   "outputs": [],
   "source": [
    "df_FD = np.zeros([num])\n",
    "\n",
    "for i in range(0,num-1):\n",
    "    df_FD[i] = --- YOUR CODE HERE ---"
   ]
  },
  {
   "cell_type": "markdown",
   "metadata": {
    "tags": [
     "solution"
    ]
   },
   "source": [
    "<div style=\"background-color:#FAE99E; color: black; vertical-align: middle; padding:15px; margin: 10px; border-radius: 10px; width: 90%\">\n",
    "<p>\n",
    "$\\text{Solution 2.9:}$\n",
    "</p>\n",
    "Forward Difference formulation:\n",
    "$$df_{i} = \\frac{v_{i+1} - v_{i}} {t_{i+1} - t_{i}}$$\n",
    "</div>\n",
    "\n"
   ]
  },
  {
   "cell_type": "code",
   "execution_count": null,
   "metadata": {
    "tags": [
     "solution"
    ]
   },
   "outputs": [],
   "source": [
    "df_FD = np.zeros([num])\n",
    "\n",
    "for i in range(0,num-1):\n",
    "    df_FD[i] = (v[i+1]-v[i]) / (t[i+1]-t[i])"
   ]
  },
  {
   "cell_type": "markdown",
   "metadata": {},
   "source": [
    "Plot the acceleration"
   ]
  },
  {
   "cell_type": "code",
   "execution_count": null,
   "metadata": {},
   "outputs": [],
   "source": [
    "plt.figure(figsize=(12, 4))\n",
    "plt.plot(t, df_FD, linewidth=0.5)\n",
    "plt.xlabel('Time (s)')\n",
    "plt.ylabel('Acceleration (cm/s2)')\n",
    "plt.title('Acceleration vs Time')\n",
    "plt.grid(True)\n",
    "plt.show()"
   ]
  },
  {
   "cell_type": "markdown",
   "metadata": {},
   "source": [
    "<div style=\"background-color:#AABAB2; color: black; width:90%; vertical-align: middle; padding:15px; margin: 10px; border-radius: 10px\">\n",
    "<p>\n",
    "\n",
    "$\\text{Task 2.10:}$\n",
    "    \n",
    "Formulate the solution according to the Backward Difference method and complete the code below\n",
    "\n",
    "</p>\n",
    "</div>"
   ]
  },
  {
   "cell_type": "code",
   "execution_count": null,
   "metadata": {
    "tags": [
     "assignment"
    ]
   },
   "outputs": [],
   "source": [
    "df_BD = np.zeros([num])\n",
    "\n",
    "for i in range(1,num):\n",
    "    df_BD[i] = --- YOUR CODE HERE ---"
   ]
  },
  {
   "cell_type": "markdown",
   "metadata": {
    "tags": [
     "solution"
    ]
   },
   "source": [
    "<div style=\"background-color:#FAE99E; color: black; vertical-align: middle; padding:15px; margin: 10px; border-radius: 10px; width: 90%\">\n",
    "<p>\n",
    "$\\text{Solution 2.10:}$\n",
    "</p>\n",
    "Backward Difference formulation:\n",
    "$$df_{i} = \\frac{v_{i} - v_{i-1}} {t_{i} - t_{i-1}}$$\n",
    "</div>\n",
    "\n"
   ]
  },

  {
   "cell_type": "code",
   "execution_count": null,
   "metadata": {
    "tags": [
     "solution"
    ]
   },
   "outputs": [],
   "source": [
    "df_BD = np.zeros([num])\n",
    "\n",
    "for i in range(1,num):\n",
    "    df_BD[i] = (v[i]-v[i-1]) / (t[i]-t[i-1])"
   ]
  },
  {
   "cell_type": "markdown",
   "metadata": {},
   "source": [
    "Plot the acceleration"
   ]
  },
  {
   "cell_type": "code",
   "execution_count": null,
   "metadata": {},
   "outputs": [],
   "source": [
    "plt.figure(figsize=(12, 4))\n",
    "plt.plot(t, df_BD, linewidth=0.5)\n",
    "plt.xlabel('Time (s)')\n",
    "plt.ylabel('Acceleration (cm/s2)')\n",
    "plt.title('Acceleration vs Time')\n",
    "plt.grid(True)\n",
    "plt.show()"
   ]
  },
  {
   "cell_type": "markdown",
   "metadata": {},
   "source": [
    "<div style=\"background-color:#AABAB2; color: black; width:90%; vertical-align: middle; padding:15px; margin: 10px; border-radius: 10px\">\n",
    "<p>\n",
    "\n",
    "$\\text{Task 2.11:}$\n",
    "    \n",
    "Formulate the solution according to the Central Difference method and complete the code below\n",
    "\n",
    "</p>\n",
    "</div>"
   ]
  },
  {
   "cell_type": "code",
   "execution_count": null,
   "metadata": {
    "tags": [
     "assignment"
    ]
   },
   "outputs": [],
   "source": [
    "df_CD = np.zeros([num])\n",
    "\n",
    "for i in range(1,num-1):\n",
    "    df_CD[i] = --- YOUR CODE HERE ---"
   ]
  },
  {
   "cell_type": "markdown",
   "metadata": {
    "tags": [
     "solution"
    ]
   },
   "source": [
    "<div style=\"background-color:#FAE99E; color: black; vertical-align: middle; padding:15px; margin: 10px; border-radius: 10px; width: 90%\">\n",
    "<p>\n",
    "$\\text{Solution 2.11:}$\n",
    "</p>\n",
    "Central Difference formulation:\n",
    "$$df_{i} = \\frac{v_{i+1} - v_{i-1}} {t_{i+1} - t_{i-1}}$$\n",
    "</div>\n",
    "\n"
   ]
  },

  {
   "cell_type": "code",
   "execution_count": null,
   "metadata": {
    "tags": [
     "solution"
    ]
   },
   "outputs": [],
   "source": [
    "df_CD = np.zeros([num])\n",
    "\n",
    "for i in range(1,num-1):\n",
    "    df_CD[i] = (v[i+1]-v[i-1]) / (t[i+1]-t[i-1])"
   ]
  },
  {
   "cell_type": "markdown",
   "metadata": {},
   "source": [
    "Plotting all together:"
   ]
  },
  {
   "cell_type": "code",
   "execution_count": null,
   "metadata": {},
   "outputs": [],
   "source": [
    "plt.figure(figsize=(12, 4))\n",
    "plt.plot(t, df_FD, linewidth=0.5)\n",
    "plt.plot(t, df_BD, linewidth=0.5)\n",
    "plt.plot(t, df_CD, linewidth=0.5)\n",
    "plt.xlabel('Time (s)')\n",
    "plt.ylabel('Acceleration (cm/s2)')\n",
    "plt.title('Acceleration vs Time')\n",
    "plt.grid(True)\n",
    "plt.show()"
   ]
  },
  {
   "cell_type": "markdown",
   "metadata": {},
   "source": [
    "Again, the results seem quite accurate and the differences between the differentiation methods are minimal in this case, although the final values are notably different."
   ]
  },
  {
   "cell_type": "markdown",
   "metadata": {},
   "source": [
    "<div style=\"background-color:#AABAB2; color: black; width:90%; vertical-align: middle; padding:15px; margin: 10px; border-radius: 10px\">\n",
    "<p>\n",
    "\n",
    "$\\text{Task 2.12:}$\n",
    "    \n",
    "Run the code below to open the 'Earthquake_acceleration.txt' file and store the acceleration data in a one-dimensional array (a_orig). Compare the calculated acceleration with original acceleration data.\n",
    "\n",
    "Conclude on the accuracy of your solution.\n",
    "\n",
    "</p>\n",
    "</div>"
   ]
  },
  {
   "cell_type": "code",
   "execution_count": null,
   "metadata": {},
   "outputs": [],
   "source": [
    "f = open(\"Earthquake_acceleration.txt\", 'r')\n",
    "a_orig = np.array([])\n",
    "\n",
    "while True:\n",
    "    line = f.readline()\n",
    "    if not line:  # If line is empty, we've reached the end of file\n",
    "        break\n",
    "    \n",
    "    try:\n",
    "        # Use split() to split on whitespace and filter out empty strings\n",
    "        string_values = line.split()\n",
    "        if len(string_values) > 1:  # to skip the first couple of lines with text\n",
    "            # Convert to float array\n",
    "            values = np.array([float(x) for x in string_values])\n",
    "            a_orig = np.append(a_orig, values)\n",
    "    except ValueError:\n",
    "        # Skip lines that can't be parsed as numbers\n",
    "        continue\n",
    "\n",
    "f.close()  # Close the file"
   ]
  },
  {
   "cell_type": "code",
   "execution_count": null,
   "metadata": {},
   "outputs": [],
   "source": [
    "print(df_FD[-1], df_BD[-1], df_CD[-1], a_orig[-1])\n",
    "print(df_FD[-2], df_BD[-2], df_CD[-2], a_orig[-2])\n",
    "plt.figure(figsize=(12, 4))\n",
    "plt.plot(t, df_CD, linewidth=0.5)\n",
    "plt.plot(t, a_orig, linewidth=0.5)\n",
    "plt.xlabel('Time (s)')\n",
    "plt.ylabel('Acceleration (cm/s2)')\n",
    "plt.title('Acceleration vs Time')\n",
    "plt.grid(True)\n",
    "plt.show()"
   ]
  },
  {
   "cell_type": "markdown",
   "metadata": {
    "tags": [
     "solution"
    ]
   },
   "source": [
    "<div style=\"background-color:#FAE99E; color: black; vertical-align: middle; padding:15px; margin: 10px; border-radius: 10px; width: 90%\">\n",
    "<p>\n",
    "$\\text{Solution 2.12:}$\n",
    "</p>\n",
    "Again, the results seem quite accurate and the differences between the differentiation methods are minimal in this case, although the final values are notably different.",
    "</div>\n",
    "\n"
   ]
  },
  {
   "cell_type": "markdown",
   "metadata": {},
   "source": [
    "<div style=\"background-color:#AABAB2; color: black; width:90%; vertical-align: middle; padding:15px; margin: 10px; border-radius: 10px\">\n",
    "<p>\n",
    "\n",
    "$\\text{Task 2.13:}$\n",
    "    \n",
    "Conclude on the maximum acceleration that the measurement point has undergone. You may round off to multitudes of 1 m/s2 (0.1 G).\n",
    "\n",
    "What time interval do you consider the 'heaviest' part of the earthquake?\n",
    "\n",
    "</p>\n",
    "</div>"
   ]
  },
  {
   "cell_type": "markdown",
   "metadata": {
    "tags": [
     "solution"
    ]
   },
   "source": [
    "<div style=\"background-color:#FAE99E; color: black; vertical-align: middle; padding:15px; margin: 10px; border-radius: 10px; width: 90%\">\n",
    "<p>\n",
    "$\\text{Solution 2.13:}$\n",
    "</p>\n",
    "The maximum acceleration is over 2 m/s2 (0.2 G). The heaviest part of the earthquake is in the time interval between 3 and 14 seconds.",
    "</div>\n",
    "\n"
   ]
  },

 ],
 "metadata": {
  "kernelspec": {
   "display_name": "base",
   "language": "python",
   "name": "python3"
  },
  "language_info": {
   "codemirror_mode": {
    "name": "ipython",
    "version": 3
   },
   "file_extension": ".py",
   "mimetype": "text/x-python",
   "name": "python",
   "nbconvert_exporter": "python",
   "pygments_lexer": "ipython3",
   "version": "3.12.11"
  }
 "nbformat": 4,
 "nbformat_minor": 2
}
